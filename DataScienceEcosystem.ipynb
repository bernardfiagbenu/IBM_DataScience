{
 "cells": [
  {
   "cell_type": "markdown",
   "id": "7ef191f3-1103-453c-aed7-ba7c884da7de",
   "metadata": {
    "tags": []
   },
   "source": [
    "# Data Science Tools and Ecosystem"
   ]
  },
  {
   "cell_type": "markdown",
   "id": "6b47add4-7d83-4eab-9fd2-dc137394af3d",
   "metadata": {},
   "source": [
    "In this notebook, Data Science Tools and Ecosystem are summarized."
   ]
  },
  {
   "cell_type": "markdown",
   "id": "12353230-6ec3-49f0-a185-5e0ba195402a",
   "metadata": {},
   "source": [
    "**Objectives:**\n",
    "* List popular languages for Data Science\n",
    "* List commonly libraries used by Data Scientists\n",
    "* List popular libraries used by Data Scientists\n",
    "* Evaluate arithmetic expressions in Python\n",
    "\n",
    "## Author\n",
    "Ibai\n"
   ]
  },
  {
   "cell_type": "markdown",
   "id": "25cf09f7-3b2c-4d17-b986-e29b4a9695c5",
   "metadata": {},
   "source": [
    "Some of the popular languages that Data Scientists use are:"
   ]
  },
  {
   "cell_type": "markdown",
   "id": "14b13f9a-7952-4a47-9a30-d327dc81d319",
   "metadata": {},
   "source": [
    "1. Python \n",
    "1. R \n",
    "1. Julia"
   ]
  },
  {
   "cell_type": "markdown",
   "id": "772239a2-4399-49e5-beaf-c6423f82853b",
   "metadata": {},
   "source": [
    "Some of the commonly used libraries used by Data Scientists include:"
   ]
  },
  {
   "cell_type": "markdown",
   "id": "ff37499a-4eb0-441e-b854-af9af86c3059",
   "metadata": {},
   "source": [
    "1. TensorFlow\n",
    "1. Pandas\n",
    "1. ggplot2"
   ]
  },
  {
   "cell_type": "markdown",
   "id": "e69b9219-3e59-4057-bfc7-400bea5df022",
   "metadata": {},
   "source": [
    "| Data Science Tools |\n",
    "| :----: |\n",
    "| Rstudio |\n",
    "| VS code |\n",
    "| JupyterLabs |"
   ]
  },
  {
   "cell_type": "markdown",
   "id": "e7418c5a-7e2e-4f49-9378-49e9edbc99d8",
   "metadata": {},
   "source": [
    "### Below are a few examples of evaluating arithmetic expressions in Python"
   ]
  },
  {
   "cell_type": "markdown",
   "id": "cad4464f-4555-4e1f-8194-8fa80e3a6b6d",
   "metadata": {},
   "source": [
    "This a simple arithmetic expression to mutiply then add integers"
   ]
  },
  {
   "cell_type": "code",
   "execution_count": 9,
   "id": "902dce5a-bf6c-449b-abcb-61f3070ae11c",
   "metadata": {},
   "outputs": [
    {
     "data": {
      "text/plain": [
       "17"
      ]
     },
     "execution_count": 9,
     "metadata": {},
     "output_type": "execute_result"
    }
   ],
   "source": [
    "(3*4)+5"
   ]
  },
  {
   "cell_type": "markdown",
   "id": "6785dab3-a312-4f91-ba29-9bd2e4f0e827",
   "metadata": {},
   "source": [
    "This will convert 200 minutes to hours by diving by 60"
   ]
  },
  {
   "cell_type": "code",
   "execution_count": 12,
   "id": "fd450832-9db2-494d-8ae1-fb533542d780",
   "metadata": {},
   "outputs": [
    {
     "data": {
      "text/plain": [
       "3.3333333333333335"
      ]
     },
     "execution_count": 12,
     "metadata": {},
     "output_type": "execute_result"
    }
   ],
   "source": [
    "200/60"
   ]
  },
  {
   "cell_type": "code",
   "execution_count": null,
   "id": "9ad92e49-3428-4301-ae92-6afbf9201a64",
   "metadata": {},
   "outputs": [],
   "source": []
  }
 ],
 "metadata": {
  "kernelspec": {
   "display_name": "Python 3 (ipykernel)",
   "language": "python",
   "name": "python3"
  },
  "language_info": {
   "codemirror_mode": {
    "name": "ipython",
    "version": 3
   },
   "file_extension": ".py",
   "mimetype": "text/x-python",
   "name": "python",
   "nbconvert_exporter": "python",
   "pygments_lexer": "ipython3",
   "version": "3.10.9"
  }
 },
 "nbformat": 4,
 "nbformat_minor": 5
}
